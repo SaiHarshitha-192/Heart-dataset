{
  "nbformat": 4,
  "nbformat_minor": 0,
  "metadata": {
    "colab": {
      "provenance": [],
      "mount_file_id": "1a3YvjEVEcoYM8c8_8TDiyxnpnNJNzrJy",
      "authorship_tag": "ABX9TyPQkkOU/UdTgMcrtcds+7nv",
      "include_colab_link": true
    },
    "kernelspec": {
      "name": "python3",
      "display_name": "Python 3"
    },
    "language_info": {
      "name": "python"
    }
  },
  "cells": [
    {
      "cell_type": "markdown",
      "metadata": {
        "id": "view-in-github",
        "colab_type": "text"
      },
      "source": [
        "<a href=\"https://colab.research.google.com/github/SaiHarshitha-192/Heart-dataset/blob/main/Heart_Attack.ipynb\" target=\"_parent\"><img src=\"https://colab.research.google.com/assets/colab-badge.svg\" alt=\"Open In Colab\"/></a>"
      ]
    },
    {
      "cell_type": "code",
      "execution_count": 1,
      "metadata": {
        "colab": {
          "base_uri": "https://localhost:8080/"
        },
        "id": "D1BqPAFoyN8Y",
        "outputId": "8a721ab9-1b0a-426f-fd6e-d801a93250e6"
      },
      "outputs": [
        {
          "output_type": "stream",
          "name": "stdout",
          "text": [
            "     age  sex  cp  trtbps  chol  fbs  restecg  thalachh  exng  oldpeak  slp  \\\n",
            "0     63    1   3     145   233    1        0       150     0      2.3    0   \n",
            "1     37    1   2     130   250    0        1       187     0      3.5    0   \n",
            "2     41    0   1     130   204    0        0       172     0      1.4    2   \n",
            "3     56    1   1     120   236    0        1       178     0      0.8    2   \n",
            "4     57    0   0     120   354    0        1       163     1      0.6    2   \n",
            "..   ...  ...  ..     ...   ...  ...      ...       ...   ...      ...  ...   \n",
            "298   57    0   0     140   241    0        1       123     1      0.2    1   \n",
            "299   45    1   3     110   264    0        1       132     0      1.2    1   \n",
            "300   68    1   0     144   193    1        1       141     0      3.4    1   \n",
            "301   57    1   0     130   131    0        1       115     1      1.2    1   \n",
            "302   57    0   1     130   236    0        0       174     0      0.0    1   \n",
            "\n",
            "     caa  thall  output  \n",
            "0      0      1       1  \n",
            "1      0      2       1  \n",
            "2      0      2       1  \n",
            "3      0      2       1  \n",
            "4      0      2       1  \n",
            "..   ...    ...     ...  \n",
            "298    0      3       0  \n",
            "299    0      3       0  \n",
            "300    2      3       0  \n",
            "301    1      3       0  \n",
            "302    1      2       0  \n",
            "\n",
            "[303 rows x 14 columns]\n",
            "   age  sex  cp  trtbps  chol  fbs  restecg  thalachh  exng  oldpeak  slp  \\\n",
            "0   63    1   3     145   233    1        0       150     0      2.3    0   \n",
            "1   37    1   2     130   250    0        1       187     0      3.5    0   \n",
            "2   41    0   1     130   204    0        0       172     0      1.4    2   \n",
            "3   56    1   1     120   236    0        1       178     0      0.8    2   \n",
            "4   57    0   0     120   354    0        1       163     1      0.6    2   \n",
            "\n",
            "   caa  thall  output  \n",
            "0    0      1       1  \n",
            "1    0      2       1  \n",
            "2    0      2       1  \n",
            "3    0      2       1  \n",
            "4    0      2       1  \n",
            "     age  sex  cp  trtbps  chol  fbs  restecg  thalachh  exng  oldpeak  slp  \\\n",
            "298   57    0   0     140   241    0        1       123     1      0.2    1   \n",
            "299   45    1   3     110   264    0        1       132     0      1.2    1   \n",
            "300   68    1   0     144   193    1        1       141     0      3.4    1   \n",
            "301   57    1   0     130   131    0        1       115     1      1.2    1   \n",
            "302   57    0   1     130   236    0        0       174     0      0.0    1   \n",
            "\n",
            "     caa  thall  output  \n",
            "298    0      3       0  \n",
            "299    0      3       0  \n",
            "300    2      3       0  \n",
            "301    1      3       0  \n",
            "302    1      2       0  \n",
            "Index(['age', 'sex', 'cp', 'trtbps', 'chol', 'fbs', 'restecg', 'thalachh',\n",
            "       'exng', 'oldpeak', 'slp', 'caa', 'thall', 'output'],\n",
            "      dtype='object')\n"
          ]
        }
      ],
      "source": [
        "#HEART DATASET\n",
        "\n",
        "import pandas as pd\n",
        "import numpy as np\n",
        "import matplotlib as plt\n",
        "from sklearn.model_selection import train_test_split\n",
        "\n",
        "#loading dataset\n",
        "X=pd.read_csv('/content/drive/MyDrive/heart.csv')\n",
        "print(X)\n",
        "\n",
        "#true facts of dataset\n",
        "print(X.head())\n",
        "print(X.tail())\n",
        "print(X.keys())"
      ]
    },
    {
      "cell_type": "code",
      "source": [
        "#splitting dataset into test and train\n",
        "from sklearn.model_selection import train_test_split\n",
        "features=X.iloc[:,0:13]\n",
        "target=X.iloc[:,13]\n",
        "print(features)\n",
        "print(target)"
      ],
      "metadata": {
        "colab": {
          "base_uri": "https://localhost:8080/"
        },
        "id": "-oGPQz3tyWWo",
        "outputId": "1bae3051-1427-4da8-a86e-d174a240337a"
      },
      "execution_count": 2,
      "outputs": [
        {
          "output_type": "stream",
          "name": "stdout",
          "text": [
            "     age  sex  cp  trtbps  chol  fbs  restecg  thalachh  exng  oldpeak  slp  \\\n",
            "0     63    1   3     145   233    1        0       150     0      2.3    0   \n",
            "1     37    1   2     130   250    0        1       187     0      3.5    0   \n",
            "2     41    0   1     130   204    0        0       172     0      1.4    2   \n",
            "3     56    1   1     120   236    0        1       178     0      0.8    2   \n",
            "4     57    0   0     120   354    0        1       163     1      0.6    2   \n",
            "..   ...  ...  ..     ...   ...  ...      ...       ...   ...      ...  ...   \n",
            "298   57    0   0     140   241    0        1       123     1      0.2    1   \n",
            "299   45    1   3     110   264    0        1       132     0      1.2    1   \n",
            "300   68    1   0     144   193    1        1       141     0      3.4    1   \n",
            "301   57    1   0     130   131    0        1       115     1      1.2    1   \n",
            "302   57    0   1     130   236    0        0       174     0      0.0    1   \n",
            "\n",
            "     caa  thall  \n",
            "0      0      1  \n",
            "1      0      2  \n",
            "2      0      2  \n",
            "3      0      2  \n",
            "4      0      2  \n",
            "..   ...    ...  \n",
            "298    0      3  \n",
            "299    0      3  \n",
            "300    2      3  \n",
            "301    1      3  \n",
            "302    1      2  \n",
            "\n",
            "[303 rows x 13 columns]\n",
            "0      1\n",
            "1      1\n",
            "2      1\n",
            "3      1\n",
            "4      1\n",
            "      ..\n",
            "298    0\n",
            "299    0\n",
            "300    0\n",
            "301    0\n",
            "302    0\n",
            "Name: output, Length: 303, dtype: int64\n"
          ]
        }
      ]
    },
    {
      "cell_type": "code",
      "source": [
        "X_train, X_test, Y_train, Y_test = train_test_split(features,target, test_size=0.2, train_size=0.8, random_state=0)\n",
        "print(X_train.shape)\n",
        "print(X_test.shape)\n",
        "print(Y_train.shape)\n",
        "print(Y_test.shape)\n"
      ],
      "metadata": {
        "colab": {
          "base_uri": "https://localhost:8080/"
        },
        "id": "IY9xEiZpyaMR",
        "outputId": "79569836-72c8-4db8-d486-fe525ee8bdf0"
      },
      "execution_count": 3,
      "outputs": [
        {
          "output_type": "stream",
          "name": "stdout",
          "text": [
            "(242, 13)\n",
            "(61, 13)\n",
            "(242,)\n",
            "(61,)\n"
          ]
        }
      ]
    },
    {
      "cell_type": "code",
      "source": [
        "#Logistic regression\n",
        "from sklearn.linear_model import LogisticRegression\n",
        "log_reg = LogisticRegression()\n",
        "print(log_reg)\n",
        "\n",
        "log_reg.fit(X_train,Y_train.values.ravel())\n",
        "\n",
        "#Measure the SCore\n",
        "l=log_reg.score(X_test,Y_test)\n",
        "\n",
        "\n",
        "#Predicting of Testing Data\n",
        "l=log_reg.predict(X_train[10:20])\n",
        "print(X_train[10:20])\n",
        "print(l)\n"
      ],
      "metadata": {
        "colab": {
          "base_uri": "https://localhost:8080/"
        },
        "id": "LSXOASf-yc8P",
        "outputId": "38228449-d988-4e60-c942-6f7ce8413923"
      },
      "execution_count": 5,
      "outputs": [
        {
          "output_type": "stream",
          "name": "stdout",
          "text": [
            "LogisticRegression()\n",
            "     age  sex  cp  trtbps  chol  fbs  restecg  thalachh  exng  oldpeak  slp  \\\n",
            "46    44    1   2     140   235    0        0       180     0      0.0    2   \n",
            "160   56    1   1     120   240    0        1       169     0      0.0    0   \n",
            "232   55    1   0     160   289    0        0       145     1      0.8    1   \n",
            "181   65    0   0     150   225    0        0       114     0      1.0    1   \n",
            "27    51    1   2     110   175    0        1       123     0      0.6    2   \n",
            "173   58    1   2     132   224    0        0       173     0      3.2    2   \n",
            "261   52    1   0     112   230    0        1       160     0      0.0    2   \n",
            "37    54    1   2     150   232    0        0       165     0      1.6    2   \n",
            "101   59    1   3     178   270    0        0       145     0      4.2    0   \n",
            "166   67    1   0     120   229    0        0       129     1      2.6    1   \n",
            "\n",
            "     caa  thall  \n",
            "46     0      2  \n",
            "160    0      2  \n",
            "232    1      3  \n",
            "181    3      3  \n",
            "27     0      2  \n",
            "173    2      3  \n",
            "261    1      2  \n",
            "37     0      3  \n",
            "101    0      3  \n",
            "166    2      3  \n",
            "[1 1 0 0 1 0 1 1 0 0]\n"
          ]
        },
        {
          "output_type": "stream",
          "name": "stderr",
          "text": [
            "/usr/local/lib/python3.7/dist-packages/sklearn/linear_model/_logistic.py:818: ConvergenceWarning: lbfgs failed to converge (status=1):\n",
            "STOP: TOTAL NO. of ITERATIONS REACHED LIMIT.\n",
            "\n",
            "Increase the number of iterations (max_iter) or scale the data as shown in:\n",
            "    https://scikit-learn.org/stable/modules/preprocessing.html\n",
            "Please also refer to the documentation for alternative solver options:\n",
            "    https://scikit-learn.org/stable/modules/linear_model.html#logistic-regression\n",
            "  extra_warning_msg=_LOGISTIC_SOLVER_CONVERGENCE_MSG,\n"
          ]
        }
      ]
    },
    {
      "cell_type": "code",
      "source": [
        "#KNN classifier\n",
        "from sklearn.neighbors import KNeighborsClassifier\n",
        "knn_clf = KNeighborsClassifier()\n",
        "knn_clf.fit(X_train, Y_train)\n",
        "l=knn_clf.predict(X_train[10:20])\n",
        "print(l)\n",
        "l=knn_clf.score(X_test,Y_test)\n",
        "print(l)"
      ],
      "metadata": {
        "colab": {
          "base_uri": "https://localhost:8080/"
        },
        "id": "r2BK3x_PyjI4",
        "outputId": "269edde2-5578-49e3-8062-ad61d6099f06"
      },
      "execution_count": 6,
      "outputs": [
        {
          "output_type": "stream",
          "name": "stdout",
          "text": [
            "[1 1 0 0 0 1 0 1 0 0]\n",
            "0.639344262295082\n"
          ]
        }
      ]
    },
    {
      "cell_type": "code",
      "source": [
        "#SGD classifier\n",
        "from sklearn.linear_model import SGDClassifier\n",
        "sgd_clf = SGDClassifier()\n",
        "sgd_clf.fit(X_train, Y_train)\n",
        "l = sgd_clf.predict(X_train[10:20])\n",
        "print(l)\n",
        "c=sgd_clf.score(X_test, Y_test)\n",
        "print(c)"
      ],
      "metadata": {
        "colab": {
          "base_uri": "https://localhost:8080/"
        },
        "id": "YWze0GG-yjKp",
        "outputId": "450da9fd-8041-4c29-a2a1-ebd673c75144"
      },
      "execution_count": 7,
      "outputs": [
        {
          "output_type": "stream",
          "name": "stdout",
          "text": [
            "[1 1 0 0 1 1 1 1 0 0]\n",
            "0.6721311475409836\n"
          ]
        }
      ]
    },
    {
      "cell_type": "code",
      "source": [
        "#Cross validation evaluation\n",
        "from sklearn.model_selection import cross_val_score\n",
        "cross_val_score(sgd_clf, X_train, Y_train, cv=5, scoring=\"accuracy\")\n",
        "from sklearn.model_selection import cross_val_predict\n",
        "Y_train_pred = cross_val_predict(sgd_clf, X_train, Y_train, cv=3)\n",
        "print(Y_train_pred)\n",
        "from sklearn.metrics import confusion_matrix\n",
        "matrix = confusion_matrix(Y_train, Y_train_pred)\n",
        "print(\"Confusion Matrix\")\n",
        "print(matrix)\n",
        "from sklearn.metrics import precision_score, recall_score\n",
        "print(\"Precision:\", precision_score(Y_train, Y_train_pred, average='micro'))\n",
        "print(\"Recall:\", recall_score(Y_train, Y_train_pred,average='micro'))\n",
        "from sklearn.metrics import f1_score\n",
        "print(\"F1 score:\", f1_score(Y_train, Y_train_pred, average='micro'))"
      ],
      "metadata": {
        "colab": {
          "base_uri": "https://localhost:8080/"
        },
        "id": "dT9alWjIyjOi",
        "outputId": "cee9e6e0-92f1-409c-fd7e-b9edae4c86ad"
      },
      "execution_count": 8,
      "outputs": [
        {
          "output_type": "stream",
          "name": "stdout",
          "text": [
            "[1 1 1 1 1 1 1 1 1 1 1 1 1 0 1 1 1 1 1 1 0 1 1 1 1 1 1 1 0 1 1 1 1 1 0 0 1\n",
            " 1 0 0 1 0 1 1 0 1 1 1 0 1 1 1 1 1 1 1 1 0 1 1 1 1 1 1 1 1 1 1 1 1 0 1 1 1\n",
            " 1 1 1 1 1 1 1 1 1 1 1 1 1 1 1 1 1 1 1 1 1 1 1 1 1 1 1 1 1 1 1 1 1 1 1 1 1\n",
            " 1 1 1 1 1 1 1 1 1 1 1 1 1 1 1 1 1 1 1 1 1 1 1 1 1 1 1 1 1 1 1 1 1 1 1 1 1\n",
            " 1 1 1 1 1 1 1 1 1 1 1 1 1 1 1 1 1 1 0 1 1 1 1 1 0 1 1 1 1 1 1 1 1 1 1 1 0\n",
            " 1 1 1 1 1 1 0 1 1 0 1 1 1 0 1 1 1 1 0 0 0 1 1 1 1 1 1 1 1 1 1 1 0 1 1 1 1\n",
            " 0 1 1 1 1 1 1 1 1 0 0 1 1 1 0 1 0 1 1 1]\n",
            "Confusion Matrix\n",
            "[[ 21  90]\n",
            " [  6 125]]\n",
            "Precision: 0.6033057851239669\n",
            "Recall: 0.6033057851239669\n",
            "F1 score: 0.6033057851239669\n"
          ]
        }
      ]
    },
    {
      "cell_type": "code",
      "source": [
        "#SVM\n",
        "from sklearn import svm, datasets\n",
        "svc = svm.SVC(kernel='linear', C=1).fit(X_train, Y_train)\n",
        "c=svc.score(X_test, Y_test)\n",
        "print(c)\n"
      ],
      "metadata": {
        "colab": {
          "base_uri": "https://localhost:8080/"
        },
        "id": "C_UgRR_EysEW",
        "outputId": "b0d83618-3d29-4899-ca8e-0d0302ed3c60"
      },
      "execution_count": 9,
      "outputs": [
        {
          "output_type": "stream",
          "name": "stdout",
          "text": [
            "0.819672131147541\n"
          ]
        }
      ]
    }
  ]
}